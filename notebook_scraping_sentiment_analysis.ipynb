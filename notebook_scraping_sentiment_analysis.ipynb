{
  "nbformat": 4,
  "nbformat_minor": 0,
  "metadata": {
    "colab": {
      "provenance": [],
      "authorship_tag": "ABX9TyPio3z3EN6wlnMW9jCDXO8Y"
    },
    "kernelspec": {
      "name": "python3",
      "display_name": "Python 3"
    },
    "language_info": {
      "name": "python"
    }
  },
  "cells": [
    {
      "cell_type": "markdown",
      "source": [
        "# **Notebook Scraping Proyek Sentimen Analisis**\n",
        "\n",
        "- **Nama:** Fatikha Hudi Aryani\n",
        "- **Email:** fatikhahudiaryani621@gmail.com\n",
        "- **ID Dicoding:** fatikha_hudi_aryani"
      ],
      "metadata": {
        "id": "eeyrnPM13HVV"
      }
    },
    {
      "cell_type": "code",
      "source": [
        "!pip install google-play-scraper"
      ],
      "metadata": {
        "colab": {
          "base_uri": "https://localhost:8080/"
        },
        "id": "9Brazp4T3jcT",
        "outputId": "d9b434df-1973-4ae2-ffcd-6864169db202"
      },
      "execution_count": 10,
      "outputs": [
        {
          "output_type": "stream",
          "name": "stdout",
          "text": [
            "Requirement already satisfied: google-play-scraper in /usr/local/lib/python3.11/dist-packages (1.2.7)\n"
          ]
        }
      ]
    },
    {
      "cell_type": "code",
      "source": [
        "# Import Library\n",
        "from google_play_scraper import reviews_all, reviews, Sort\n",
        "import pandas as pd"
      ],
      "metadata": {
        "id": "9gqM7hKh3H86"
      },
      "execution_count": 11,
      "outputs": []
    },
    {
      "cell_type": "code",
      "source": [
        "# Melakukan scraping untuk mengambil 30000 ulasan aplikasi tokopedia\n",
        "scrap_review = reviews(\n",
        "    'id.co.bri.brimo',\n",
        "    lang='id',\n",
        "    country='id',\n",
        "    count = 10000\n",
        ")"
      ],
      "metadata": {
        "id": "y6r1iBpb3VKY"
      },
      "execution_count": 12,
      "outputs": []
    },
    {
      "cell_type": "code",
      "source": [
        "# Menyimpan hasil scrap ke dalam bentuk file csv\n",
        "df = pd.DataFrame(scrap_review[0])\n",
        "df.to_csv('brimo_reviews_10K.csv', index=False)"
      ],
      "metadata": {
        "id": "wPtVPyVl4CYi"
      },
      "execution_count": 13,
      "outputs": []
    }
  ]
}